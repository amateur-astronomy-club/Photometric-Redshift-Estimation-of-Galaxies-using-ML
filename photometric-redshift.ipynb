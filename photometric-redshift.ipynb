{
 "cells": [
  {
   "cell_type": "code",
   "execution_count": 1,
   "metadata": {
    "collapsed": false
   },
   "outputs": [
    {
     "data": {
      "text/plain": [
       "array([ (19.84132, 19.52656, 19.46946, 19.17955, 19.10763, b'QSO', 0.539301, 6.543622e-05),\n",
       "       (19.86318, 18.66298, 17.84272, 17.38978, 17.14313, b'GALAXY', 0.1645703, 1.186625e-05),\n",
       "       (19.97362, 18.31421, 17.47922, 17.0744, 16.76174, b'GALAXY', 0.04190006, 2.183788e-05),\n",
       "       ...,\n",
       "       (19.82667, 18.10038, 17.16133, 16.5796, 16.19755, b'GALAXY', 0.0784592, 2.159406e-05),\n",
       "       (19.98672, 19.75385, 19.5713, 19.27739, 19.25895, b'QSO', 1.567295, 0.0004505933),\n",
       "       (18.00024, 17.80957, 17.77302, 17.72663, 17.7264, b'QSO', 0.4749449, 6.203324e-05)], \n",
       "      dtype=[('u', '<f8'), ('g', '<f8'), ('r', '<f8'), ('i', '<f8'), ('z', '<f8'), ('spec_class', 'S6'), ('redshift', '<f8'), ('redshift_err', '<f8')])"
      ]
     },
     "execution_count": 1,
     "metadata": {},
     "output_type": "execute_result"
    }
   ],
   "source": [
    "import numpy as np\n",
    "dataset = np.load('sdss_galaxy_colors.npy')\n",
    "dataset\n",
    "# We don't require 'spec_class' and 'redshift_err' for our purpose, only columns u, g, r, i, z, redshift are of relevance"
   ]
  },
  {
   "cell_type": "code",
   "execution_count": 7,
   "metadata": {
    "collapsed": false
   },
   "outputs": [
    {
     "name": "stdout",
     "output_type": "stream",
     "text": [
      "[[ 0.31476  0.0571   0.28991  0.07192]\n",
      " [ 1.2002   0.82026  0.45294  0.24665]\n",
      " [ 1.65941  0.83499  0.40482  0.31266]\n",
      " [ 1.5653   0.90174  0.49873  0.38671]\n",
      " [ 1.12483  0.65899  0.36996  0.16539]]\n",
      "[ 0.539301    0.1645703   0.04190006  0.04427702  0.04164413]\n"
     ]
    }
   ],
   "source": [
    "# MILESTONE 1: Get FEATURES and TARGET for the dataset\n",
    "\n",
    "def get_features_targets(dataset):\n",
    "    features = np.zeros((dataset.shape[0], 4))    # n lines, 4 columns, shape parameter has to be an int or sequence of int\n",
    "    features[:, 0] = dataset['u'] - dataset['g']\n",
    "    features[:, 1] = dataset['g'] - dataset['r']\n",
    "    features[:, 2] = dataset['r'] - dataset['i']\n",
    "    features[:, 3] = dataset['i'] - dataset['z']\n",
    "    \n",
    "    targets = dataset['redshift']\n",
    "    \n",
    "    return (features, targets)\n",
    "\n",
    "features, targets = get_features_targets(dataset)\n",
    "print(features[:5])\n",
    "print(targets[:5])"
   ]
  },
  {
   "cell_type": "code",
   "execution_count": 9,
   "metadata": {
    "collapsed": false
   },
   "outputs": [
    {
     "name": "stdout",
     "output_type": "stream",
     "text": [
      "[ 0.539301    0.1645703   0.04190006  0.04427702]\n"
     ]
    }
   ],
   "source": [
    "#MILESTONE 2: (i) Create a model (ii) Train it (iii) Get some predictions\n",
    "\n",
    "from sklearn.tree import DecisionTreeRegressor\n",
    "\n",
    "# Initialise the model\n",
    "dtr = DecisionTreeRegressor()\n",
    "\n",
    "# Train the model\n",
    "dtr.fit(features, targets)\n",
    "\n",
    "# Make predictions using same features\n",
    "predictions = dtr.predict(features)\n",
    "\n",
    "# Print out the first 4 predictions\n",
    "print(predictions[:4])"
   ]
  },
  {
   "cell_type": "code",
   "execution_count": null,
   "metadata": {
    "collapsed": true
   },
   "outputs": [],
   "source": [
    "\n",
    "# Function to calculate the median of differences between our predicted and actual values\n",
    "def median_diff(predicted, actual):\n",
    "    diff = np.median(np.absolute(predicted - actual))\n",
    "    return diff\n",
    "\n",
    "# Function to split the dataset into training and testing features and predictions\n"
   ]
  }
 ],
 "metadata": {
  "anaconda-cloud": {},
  "kernelspec": {
   "display_name": "Python [conda root]",
   "language": "python",
   "name": "conda-root-py"
  },
  "language_info": {
   "codemirror_mode": {
    "name": "ipython",
    "version": 3
   },
   "file_extension": ".py",
   "mimetype": "text/x-python",
   "name": "python",
   "nbconvert_exporter": "python",
   "pygments_lexer": "ipython3",
   "version": "3.5.2"
  }
 },
 "nbformat": 4,
 "nbformat_minor": 1
}
